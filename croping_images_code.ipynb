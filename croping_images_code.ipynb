{
 "cells": [
  {
   "cell_type": "code",
   "execution_count": 1,
   "id": "88c890b0",
   "metadata": {},
   "outputs": [
    {
     "name": "stdout",
     "output_type": "stream",
     "text": [
      "Collecting patchify\n",
      "  Obtaining dependency information for patchify from https://files.pythonhosted.org/packages/00/ce/d76647d95aad98d5532b5d25801dedda788c6b5d4c7457d30ae3612132af/patchify-0.2.3-py3-none-any.whl.metadata\n",
      "  Downloading patchify-0.2.3-py3-none-any.whl.metadata (3.0 kB)\n",
      "Requirement already satisfied: numpy<2,>=1 in /Users/ajayramaraju/anaconda3/lib/python3.11/site-packages (from patchify) (1.24.3)\n",
      "Downloading patchify-0.2.3-py3-none-any.whl (6.6 kB)\n",
      "Installing collected packages: patchify\n",
      "Successfully installed patchify-0.2.3\n"
     ]
    }
   ],
   "source": [
    "!pip install patchify"
   ]
  },
  {
   "cell_type": "code",
   "execution_count": 3,
   "id": "9a57db74",
   "metadata": {},
   "outputs": [],
   "source": [
    "import numpy as np\n",
    "from matplotlib import pyplot as plt\n",
    "from patchify import patchify\n",
    "import tifffile as tiff"
   ]
  },
  {
   "cell_type": "code",
   "execution_count": 4,
   "id": "a7096684",
   "metadata": {},
   "outputs": [],
   "source": [
    "large_image_stack = tiff.imread('/Users/ajayramaraju/Desktop/My Research/Projects/U-net/sandstone_data_for_ML/sandstone_all_462_images.tif')\n",
    "#large_mask_stack = tiff.imread('/Users/ajayramaraju/Desktop/croping_images_code/pred_vol_tnet_more_data_240_dend_only_182.tiff')\n"
   ]
  },
  {
   "cell_type": "code",
   "execution_count": 5,
   "id": "2192aae1",
   "metadata": {},
   "outputs": [
    {
     "name": "stdout",
     "output_type": "stream",
     "text": [
      "(462, 1024, 996)\n"
     ]
    }
   ],
   "source": [
    "print(large_image_stack.shape)\n"
   ]
  },
  {
   "cell_type": "code",
   "execution_count": 9,
   "id": "30d814e4",
   "metadata": {},
   "outputs": [],
   "source": [
    "for img in range(large_image_stack.shape[0]):\n",
    "\n",
    "    large_image = large_image_stack[img]\n",
    "\n",
    "    patches_img = patchify(large_image, (256, 256), step=256)  #Step=256 for 256 patches means no overlap\n",
    "\n",
    "    for i in range(patches_img.shape[0]):\n",
    "        for j in range(patches_img.shape[1]):\n",
    "\n",
    "            single_patch_img = patches_img[i,j,:,:]\n",
    "            tiff.imwrite('/Users/ajayramaraju/Desktop/croping_images_code' + 'image_' + str(img) + '_' + str(i)+str(j)+ \".tiff\", single_patch_img)\n"
   ]
  },
  {
   "cell_type": "code",
   "execution_count": null,
   "id": "895b2f8a",
   "metadata": {},
   "outputs": [],
   "source": [
    "#for msk in range(large_mask_stack.shape[0]):\n",
    "\n",
    "    large_mask = large_mask_stack[msk]\n",
    "\n",
    "    patches_mask = patchify(large_mask, (256, 256), step=256)  #Step=256 for 256 patches means no overlap\n",
    "\n",
    "\n",
    "    for i in range(patches_mask.shape[0]):\n",
    "        for j in range(patches_mask.shape[1]):\n",
    "\n",
    "            single_patch_mask = patches_mask[i,j,:,:]\n",
    "            tiff.imwrite('/content/drive/MyDrive/sandstone_data_for_ML-2' + 'mask_' + str(msk) + '_' + str(i)+str(j)+ \".tif\", single_patch_mask)\n",
    "            single_patch_mask = single_patch_mask / 255.\n",
    "\n"
   ]
  },
  {
   "cell_type": "code",
   "execution_count": 10,
   "id": "1fd43ab1",
   "metadata": {},
   "outputs": [],
   "source": [
    "crop_image = tiff.imread('/Users/ajayramaraju/Desktop/croping_images_codeimage_100_10.tiff')"
   ]
  },
  {
   "cell_type": "code",
   "execution_count": 11,
   "id": "b4d6260b",
   "metadata": {},
   "outputs": [
    {
     "name": "stdout",
     "output_type": "stream",
     "text": [
      "(256, 256)\n"
     ]
    }
   ],
   "source": [
    "print(crop_image.shape)\n"
   ]
  },
  {
   "cell_type": "code",
   "execution_count": null,
   "id": "9caa955f",
   "metadata": {},
   "outputs": [],
   "source": []
  }
 ],
 "metadata": {
  "kernelspec": {
   "display_name": "Python 3 (ipykernel)",
   "language": "python",
   "name": "python3"
  },
  "language_info": {
   "codemirror_mode": {
    "name": "ipython",
    "version": 3
   },
   "file_extension": ".py",
   "mimetype": "text/x-python",
   "name": "python",
   "nbconvert_exporter": "python",
   "pygments_lexer": "ipython3",
   "version": "3.11.4"
  }
 },
 "nbformat": 4,
 "nbformat_minor": 5
}
